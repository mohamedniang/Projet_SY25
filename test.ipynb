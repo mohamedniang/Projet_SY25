{
 "cells": [
  {
   "cell_type": "code",
   "execution_count": 1,
   "metadata": {},
   "outputs": [],
   "source": [
    "import subprocess"
   ]
  },
  {
   "cell_type": "code",
   "execution_count": 20,
   "metadata": {},
   "outputs": [
    {
     "data": {
      "text/plain": [
       "b' Volume in drive C has no label.\\r\\n Volume Serial Number is 3205-7A36\\r\\n\\r\\n Directory of C:\\\\Users\\r\\n\\r\\n11/05/2023  03:10 PM    <DIR>          .\\r\\n01/03/2022  09:13 PM    <DIR>          adamaniang.niang\\r\\n11/26/2022  08:55 PM    <DIR>          adminhelpdesk\\r\\n12/02/2023  07:01 AM    <DIR>          mouha\\r\\n12/18/2023  01:15 PM    <DIR>          postgres\\r\\n11/26/2022  08:25 PM    <DIR>          Public\\r\\n11/26/2022  08:22 PM    <DIR>          User\\r\\n               0 File(s)              0 bytes\\r\\n               7 Dir(s)   9,695,023,104 bytes free\\r\\n'"
      ]
     },
     "execution_count": 20,
     "metadata": {},
     "output_type": "execute_result"
    }
   ],
   "source": [
    "subprocess.check_output(\"dir C:\\\\Users\\\\\", shell=True)"
   ]
  }
 ],
 "metadata": {
  "kernelspec": {
   "display_name": "Python 3",
   "language": "python",
   "name": "python3"
  },
  "language_info": {
   "codemirror_mode": {
    "name": "ipython",
    "version": 3
   },
   "file_extension": ".py",
   "mimetype": "text/x-python",
   "name": "python",
   "nbconvert_exporter": "python",
   "pygments_lexer": "ipython3",
   "version": "3.10.1"
  }
 },
 "nbformat": 4,
 "nbformat_minor": 2
}
